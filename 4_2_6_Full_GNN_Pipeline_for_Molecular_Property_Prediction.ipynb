{
  "nbformat": 4,
  "nbformat_minor": 0,
  "metadata": {
    "colab": {
      "provenance": [],
      "authorship_tag": "ABX9TyPLhwiXNUqSbHiFu7s6dTMp",
      "include_colab_link": true
    },
    "kernelspec": {
      "name": "python3",
      "display_name": "Python 3"
    },
    "language_info": {
      "name": "python"
    }
  },
  "cells": [
    {
      "cell_type": "markdown",
      "metadata": {
        "id": "view-in-github",
        "colab_type": "text"
      },
      "source": [
        "<a href=\"https://colab.research.google.com/github/aliu-7/Molecular-Property-Prediction-and-Optimization/blob/main/4_2_6_Full_GNN_Pipeline_for_Molecular_Property_Prediction.ipynb\" target=\"_parent\"><img src=\"https://colab.research.google.com/assets/colab-badge.svg\" alt=\"Open In Colab\"/></a>"
      ]
    },
    {
      "cell_type": "markdown",
      "source": [
        "# Code Example: BBBP Prediction with GCN"
      ],
      "metadata": {
        "id": "tKufqTaaLh8e"
      }
    },
    {
      "cell_type": "code",
      "source": [
        "# Step 1: Install required libraries\n",
        "!pip install torch-scatter -f https://data.pyg.org/whl/torch-2.0.0+cpu.html\n",
        "!pip install torch-sparse -f https://data.pyg.org/whl/torch-2.0.0+cpu.html\n",
        "!pip install torch-geometric\n",
        "!pip install rdkit!pip install torch-scatter -f https://data.pyg.org/whl/torch-2.0.0+cpu.html\n",
        "!pip install torch-sparse -f https://data.pyg.org/whl/torch-2.0.0+cpu.html\n",
        "!pip install torch-geometric\n",
        "!pip install rdkit"
      ],
      "metadata": {
        "id": "LePa5cFHOn2n"
      },
      "execution_count": null,
      "outputs": []
    },
    {
      "cell_type": "code",
      "execution_count": null,
      "metadata": {
        "colab": {
          "base_uri": "https://localhost:8080/"
        },
        "id": "xzzPrqmDLgJa",
        "outputId": "4b11e02f-7daa-4a05-b72b-eff02b44a238"
      },
      "outputs": [
        {
          "output_type": "stream",
          "name": "stdout",
          "text": [
            "Looking in links: https://data.pyg.org/whl/torch-2.0.0+cpu.html\n",
            "Requirement already satisfied: torch-scatter in /usr/local/lib/python3.11/dist-packages (2.1.2+pt20cpu)\n",
            "Looking in links: https://data.pyg.org/whl/torch-2.0.0+cpu.html\n",
            "Requirement already satisfied: torch-sparse in /usr/local/lib/python3.11/dist-packages (0.6.18+pt20cpu)\n",
            "Requirement already satisfied: scipy in /usr/local/lib/python3.11/dist-packages (from torch-sparse) (1.15.3)\n",
            "Requirement already satisfied: numpy<2.5,>=1.23.5 in /usr/local/lib/python3.11/dist-packages (from scipy->torch-sparse) (2.0.2)\n",
            "Requirement already satisfied: torch-geometric in /usr/local/lib/python3.11/dist-packages (2.6.1)\n",
            "Requirement already satisfied: aiohttp in /usr/local/lib/python3.11/dist-packages (from torch-geometric) (3.11.15)\n",
            "Requirement already satisfied: fsspec in /usr/local/lib/python3.11/dist-packages (from torch-geometric) (2025.3.2)\n",
            "Requirement already satisfied: jinja2 in /usr/local/lib/python3.11/dist-packages (from torch-geometric) (3.1.6)\n",
            "Requirement already satisfied: numpy in /usr/local/lib/python3.11/dist-packages (from torch-geometric) (2.0.2)\n",
            "Requirement already satisfied: psutil>=5.8.0 in /usr/local/lib/python3.11/dist-packages (from torch-geometric) (5.9.5)\n",
            "Requirement already satisfied: pyparsing in /usr/local/lib/python3.11/dist-packages (from torch-geometric) (3.2.3)\n",
            "Requirement already satisfied: requests in /usr/local/lib/python3.11/dist-packages (from torch-geometric) (2.32.3)\n",
            "Requirement already satisfied: tqdm in /usr/local/lib/python3.11/dist-packages (from torch-geometric) (4.67.1)\n",
            "Requirement already satisfied: aiohappyeyeballs>=2.3.0 in /usr/local/lib/python3.11/dist-packages (from aiohttp->torch-geometric) (2.6.1)\n",
            "Requirement already satisfied: aiosignal>=1.1.2 in /usr/local/lib/python3.11/dist-packages (from aiohttp->torch-geometric) (1.3.2)\n",
            "Requirement already satisfied: attrs>=17.3.0 in /usr/local/lib/python3.11/dist-packages (from aiohttp->torch-geometric) (25.3.0)\n",
            "Requirement already satisfied: frozenlist>=1.1.1 in /usr/local/lib/python3.11/dist-packages (from aiohttp->torch-geometric) (1.7.0)\n",
            "Requirement already satisfied: multidict<7.0,>=4.5 in /usr/local/lib/python3.11/dist-packages (from aiohttp->torch-geometric) (6.4.4)\n",
            "Requirement already satisfied: propcache>=0.2.0 in /usr/local/lib/python3.11/dist-packages (from aiohttp->torch-geometric) (0.3.2)\n",
            "Requirement already satisfied: yarl<2.0,>=1.17.0 in /usr/local/lib/python3.11/dist-packages (from aiohttp->torch-geometric) (1.20.1)\n",
            "Requirement already satisfied: MarkupSafe>=2.0 in /usr/local/lib/python3.11/dist-packages (from jinja2->torch-geometric) (3.0.2)\n",
            "Requirement already satisfied: charset-normalizer<4,>=2 in /usr/local/lib/python3.11/dist-packages (from requests->torch-geometric) (3.4.2)\n",
            "Requirement already satisfied: idna<4,>=2.5 in /usr/local/lib/python3.11/dist-packages (from requests->torch-geometric) (3.10)\n",
            "Requirement already satisfied: urllib3<3,>=1.21.1 in /usr/local/lib/python3.11/dist-packages (from requests->torch-geometric) (2.4.0)\n",
            "Requirement already satisfied: certifi>=2017.4.17 in /usr/local/lib/python3.11/dist-packages (from requests->torch-geometric) (2025.6.15)\n",
            "Collecting rdkit\n",
            "  Downloading rdkit-2025.3.3-cp311-cp311-manylinux_2_28_x86_64.whl.metadata (4.0 kB)\n",
            "Requirement already satisfied: numpy in /usr/local/lib/python3.11/dist-packages (from rdkit) (2.0.2)\n",
            "Requirement already satisfied: Pillow in /usr/local/lib/python3.11/dist-packages (from rdkit) (11.2.1)\n",
            "Downloading rdkit-2025.3.3-cp311-cp311-manylinux_2_28_x86_64.whl (34.9 MB)\n",
            "\u001b[2K   \u001b[90m━━━━━━━━━━━━━━━━━━━━━━━━━━━━━━━━━━━━━━━━\u001b[0m \u001b[32m34.9/34.9 MB\u001b[0m \u001b[31m57.6 MB/s\u001b[0m eta \u001b[36m0:00:00\u001b[0m\n",
            "\u001b[?25hInstalling collected packages: rdkit\n",
            "Successfully installed rdkit-2025.3.3\n"
          ]
        },
        {
          "output_type": "stream",
          "name": "stderr",
          "text": [
            "/usr/local/lib/python3.11/dist-packages/torch_geometric/typing.py:86: UserWarning: An issue occurred while importing 'torch-scatter'. Disabling its usage. Stacktrace: /usr/local/lib/python3.11/dist-packages/torch_scatter/_version_cpu.so: undefined symbol: _ZN3c1017RegisterOperatorsD1Ev\n",
            "  warnings.warn(f\"An issue occurred while importing 'torch-scatter'. \"\n",
            "/usr/local/lib/python3.11/dist-packages/torch_geometric/typing.py:124: UserWarning: An issue occurred while importing 'torch-sparse'. Disabling its usage. Stacktrace: /usr/local/lib/python3.11/dist-packages/torch_sparse/_version_cpu.so: undefined symbol: _ZN3c1017RegisterOperatorsD1Ev\n",
            "  warnings.warn(f\"An issue occurred while importing 'torch-sparse'. \"\n",
            "[05:46:45] Explicit valence for atom # 1 N, 4, is greater than permitted\n",
            "[05:46:45] WARNING: not removing hydrogen atom without neighbors\n",
            "[05:46:45] Explicit valence for atom # 6 N, 4, is greater than permitted\n",
            "[05:46:45] WARNING: not removing hydrogen atom without neighbors\n",
            "[05:46:45] WARNING: not removing hydrogen atom without neighbors\n",
            "[05:46:45] WARNING: not removing hydrogen atom without neighbors\n",
            "[05:46:46] WARNING: not removing hydrogen atom without neighbors\n",
            "[05:46:46] WARNING: not removing hydrogen atom without neighbors\n",
            "[05:46:46] WARNING: not removing hydrogen atom without neighbors\n",
            "[05:46:46] Explicit valence for atom # 6 N, 4, is greater than permitted\n",
            "[05:46:46] WARNING: not removing hydrogen atom without neighbors\n",
            "[05:46:46] WARNING: not removing hydrogen atom without neighbors\n",
            "[05:46:46] WARNING: not removing hydrogen atom without neighbors\n",
            "[05:46:46] WARNING: not removing hydrogen atom without neighbors\n",
            "[05:46:46] Explicit valence for atom # 11 N, 4, is greater than permitted\n",
            "[05:46:46] Explicit valence for atom # 12 N, 4, is greater than permitted\n",
            "[05:46:46] Explicit valence for atom # 5 N, 4, is greater than permitted\n",
            "[05:46:46] Explicit valence for atom # 5 N, 4, is greater than permitted\n",
            "[05:46:46] Explicit valence for atom # 5 N, 4, is greater than permitted\n",
            "[05:46:46] Explicit valence for atom # 5 N, 4, is greater than permitted\n",
            "[05:46:46] Explicit valence for atom # 5 N, 4, is greater than permitted\n",
            "[05:46:46] WARNING: not removing hydrogen atom without neighbors\n",
            "[05:46:46] WARNING: not removing hydrogen atom without neighbors\n",
            "[05:46:46] Explicit valence for atom # 5 N, 4, is greater than permitted\n",
            "[05:46:46] WARNING: not removing hydrogen atom without neighbors\n",
            "[05:46:46] WARNING: not removing hydrogen atom without neighbors\n",
            "[05:46:46] WARNING: not removing hydrogen atom without neighbors\n",
            "[05:46:46] WARNING: not removing hydrogen atom without neighbors\n",
            "[05:46:46] WARNING: not removing hydrogen atom without neighbors\n",
            "[05:46:46] WARNING: not removing hydrogen atom without neighbors\n",
            "[05:46:47] WARNING: not removing hydrogen atom without neighbors\n",
            "[05:46:47] WARNING: not removing hydrogen atom without neighbors\n",
            "[05:46:47] WARNING: not removing hydrogen atom without neighbors\n",
            "[05:46:47] WARNING: not removing hydrogen atom without neighbors\n",
            "[05:46:47] WARNING: not removing hydrogen atom without neighbors\n",
            "[05:46:47] WARNING: not removing hydrogen atom without neighbors\n",
            "[05:46:47] WARNING: not removing hydrogen atom without neighbors\n",
            "[05:46:47] WARNING: not removing hydrogen atom without neighbors\n",
            "[05:46:47] WARNING: not removing hydrogen atom without neighbors\n",
            "[05:46:47] WARNING: not removing hydrogen atom without neighbors\n",
            "[05:46:47] WARNING: not removing hydrogen atom without neighbors\n",
            "[05:46:47] WARNING: not removing hydrogen atom without neighbors\n",
            "[05:46:47] WARNING: not removing hydrogen atom without neighbors\n",
            "[05:46:47] WARNING: not removing hydrogen atom without neighbors\n",
            "[05:46:47] WARNING: not removing hydrogen atom without neighbors\n",
            "[05:46:47] WARNING: not removing hydrogen atom without neighbors\n",
            "[05:46:47] WARNING: not removing hydrogen atom without neighbors\n",
            "[05:46:47] WARNING: not removing hydrogen atom without neighbors\n",
            "[05:46:47] WARNING: not removing hydrogen atom without neighbors\n",
            "[05:46:47] WARNING: not removing hydrogen atom without neighbors\n",
            "[05:46:47] WARNING: not removing hydrogen atom without neighbors\n"
          ]
        }
      ],
      "source": [
        "# Step 2: Install required libraries\n",
        "import torch\n",
        "import pandas as pd\n",
        "from rdkit import Chem\n",
        "from torch_geometric.data import Data\n",
        "from sklearn.model_selection import train_test_split\n",
        "\n",
        "\n",
        "url = \"https://raw.githubusercontent.com/Data-Chemist-Handbook/Data-Chemist-Handbook.github.io/refs/heads/master/_pages/BBBP.csv\"\n",
        "df = pd.read_csv(url)\n",
        "\n",
        "# Step 3: Create atom features\n",
        "def atom_features(atom):\n",
        "    return [\n",
        "        atom.GetAtomicNum(),\n",
        "        atom.GetTotalDegree(),\n",
        "        atom.GetFormalCharge(),\n",
        "        int(atom.GetIsAromatic())\n",
        "    ]\n",
        "\n",
        "# Step 4: Build PyTorch Geometric Data objects\n",
        "molecules = []\n",
        "for i, row in df.iterrows():\n",
        "    mol = Chem.MolFromSmiles(row['smiles'])\n",
        "    if mol is None:\n",
        "        continue\n",
        "\n",
        "    atoms = mol.GetAtoms()\n",
        "    atom_feats = [atom_features(atom) for atom in atoms]\n",
        "\n",
        "    edge_index = []\n",
        "    for bond in mol.GetBonds():\n",
        "        start, end = bond.GetBeginAtomIdx(), bond.GetEndAtomIdx()\n",
        "        edge_index.append([start, end])\n",
        "        edge_index.append([end, start])  # undirected\n",
        "\n",
        "    x = torch.tensor(atom_feats, dtype=torch.float)\n",
        "    edge_index = torch.tensor(edge_index, dtype=torch.long).t().contiguous()\n",
        "    y = torch.tensor([row['p_np']], dtype=torch.float)\n",
        "\n",
        "    molecules.append(Data(x=x, edge_index=edge_index, y=y))\n",
        "\n",
        "# Step 5: Train/test split\n",
        "train_data, test_data = train_test_split(molecules, test_size=0.2, random_state=42)"
      ]
    },
    {
      "cell_type": "markdown",
      "source": [
        "# Building the GCN Model"
      ],
      "metadata": {
        "id": "ms47ZKu3Llb8"
      }
    },
    {
      "cell_type": "code",
      "source": [
        "import torch\n",
        "import torch.nn.functional as F\n",
        "from torch_geometric.nn import GCNConv, global_mean_pool\n",
        "from torch_geometric.loader import DataLoader\n",
        "\n",
        "class GCNClassifier(torch.nn.Module):\n",
        "    def __init__(self):\n",
        "        super(GCNClassifier, self).__init__()\n",
        "        self.conv1 = GCNConv(4, 32)\n",
        "        self.conv2 = GCNConv(32, 64)\n",
        "        self.linear = torch.nn.Linear(64, 1)\n",
        "\n",
        "    def forward(self, x, edge_index, batch):\n",
        "        x = F.relu(self.conv1(x, edge_index))\n",
        "        x = F.relu(self.conv2(x, edge_index))\n",
        "        x = global_mean_pool(x, batch)\n",
        "        return torch.sigmoid(self.linear(x)).squeeze()"
      ],
      "metadata": {
        "id": "hxzkMOcPLoOH"
      },
      "execution_count": null,
      "outputs": []
    },
    {
      "cell_type": "markdown",
      "source": [
        "# Training the GCN"
      ],
      "metadata": {
        "id": "yU6Eo-TtLph-"
      }
    },
    {
      "cell_type": "code",
      "source": [
        "device = torch.device('cuda' if torch.cuda.is_available() else 'cpu')\n",
        "model = GCNClassifier().to(device)\n",
        "optimizer = torch.optim.Adam(model.parameters(), lr=0.001)\n",
        "loss_fn = torch.nn.BCELoss()\n",
        "\n",
        "train_loader = DataLoader(train_data, batch_size=32, shuffle=True)\n",
        "test_loader = DataLoader(test_data, batch_size=32)\n",
        "\n",
        "for epoch in range(5):\n",
        "    model.train()\n",
        "    total_loss = 0\n",
        "    for batch in train_loader:\n",
        "        batch = batch.to(device)\n",
        "        optimizer.zero_grad()\n",
        "        out = model(batch.x, batch.edge_index, batch.batch)\n",
        "        loss = loss_fn(out, batch.y)\n",
        "        loss.backward()\n",
        "        optimizer.step()\n",
        "        total_loss += loss.item()\n",
        "    print(f\"Epoch {epoch+1}, Loss: {total_loss:.4f}\")"
      ],
      "metadata": {
        "colab": {
          "base_uri": "https://localhost:8080/"
        },
        "id": "Fdbl1mM9Lqpi",
        "outputId": "b85d594a-88c5-4532-d8ee-9ee7951a2fab"
      },
      "execution_count": null,
      "outputs": [
        {
          "output_type": "stream",
          "name": "stdout",
          "text": [
            "Epoch 1, Loss: 29.0699\n",
            "Epoch 2, Loss: 27.9700\n",
            "Epoch 3, Loss: 27.8474\n",
            "Epoch 4, Loss: 27.7612\n",
            "Epoch 5, Loss: 27.6931\n"
          ]
        }
      ]
    },
    {
      "cell_type": "markdown",
      "source": [
        "# Evaluating Performance"
      ],
      "metadata": {
        "id": "j1gLKsr4Lr_b"
      }
    },
    {
      "cell_type": "code",
      "source": [
        "model.eval()\n",
        "correct = 0\n",
        "total = 0\n",
        "with torch.no_grad():\n",
        "    for batch in test_loader:\n",
        "        batch = batch.to(device)\n",
        "        preds = model(batch.x, batch.edge_index, batch.batch) > 0.5\n",
        "        correct += (preds == batch.y.bool()).sum().item()\n",
        "        total += batch.y.size(0)\n",
        "\n",
        "accuracy = correct / total\n",
        "print(f\"Test Accuracy: {accuracy:.2f}\")"
      ],
      "metadata": {
        "colab": {
          "base_uri": "https://localhost:8080/"
        },
        "id": "XVUxK4v8Ls7I",
        "outputId": "dd1f5a89-e4a1-409b-baff-19e0db4f670b"
      },
      "execution_count": null,
      "outputs": [
        {
          "output_type": "stream",
          "name": "stdout",
          "text": [
            "Test Accuracy: 0.76\n"
          ]
        }
      ]
    }
  ]
}