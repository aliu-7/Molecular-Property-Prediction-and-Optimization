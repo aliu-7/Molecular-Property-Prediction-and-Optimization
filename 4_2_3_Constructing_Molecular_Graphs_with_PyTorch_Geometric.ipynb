{
  "nbformat": 4,
  "nbformat_minor": 0,
  "metadata": {
    "colab": {
      "provenance": [],
      "authorship_tag": "ABX9TyP/xni6e1LQ6lWvf3gNFUlD",
      "include_colab_link": true
    },
    "kernelspec": {
      "name": "python3",
      "display_name": "Python 3"
    },
    "language_info": {
      "name": "python"
    }
  },
  "cells": [
    {
      "cell_type": "markdown",
      "metadata": {
        "id": "view-in-github",
        "colab_type": "text"
      },
      "source": [
        "<a href=\"https://colab.research.google.com/github/aliu-7/Molecular-Property-Prediction-and-Optimization/blob/main/4_2_3_Constructing_Molecular_Graphs_with_PyTorch_Geometric.ipynb\" target=\"_parent\"><img src=\"https://colab.research.google.com/assets/colab-badge.svg\" alt=\"Open In Colab\"/></a>"
      ]
    },
    {
      "cell_type": "markdown",
      "source": [
        "# Installation (Google Colab)"
      ],
      "metadata": {
        "id": "nmwnbt9eGmaf"
      }
    },
    {
      "cell_type": "code",
      "execution_count": null,
      "metadata": {
        "colab": {
          "base_uri": "https://localhost:8080/"
        },
        "id": "Z3ls-OAtGU_Y",
        "outputId": "21b08c69-e72b-41b8-a62d-657eab1f3c35"
      },
      "outputs": [
        {
          "output_type": "stream",
          "name": "stdout",
          "text": [
            "\u001b[2K   \u001b[90m━━━━━━━━━━━━━━━━━━━━━━━━━━━━━━━━━━━━━━━━\u001b[0m \u001b[32m34.9/34.9 MB\u001b[0m \u001b[31m26.6 MB/s\u001b[0m eta \u001b[36m0:00:00\u001b[0m\n",
            "\u001b[2K     \u001b[90m━━━━━━━━━━━━━━━━━━━━━━━━━━━━━━━━━━━━━━━\u001b[0m \u001b[32m494.0/494.0 kB\u001b[0m \u001b[31m9.4 MB/s\u001b[0m eta \u001b[36m0:00:00\u001b[0m\n",
            "\u001b[2K     \u001b[90m━━━━━━━━━━━━━━━━━━━━━━━━━━━━━━━━━━━━━━━━\u001b[0m \u001b[32m63.1/63.1 kB\u001b[0m \u001b[31m2.8 MB/s\u001b[0m eta \u001b[36m0:00:00\u001b[0m\n",
            "\u001b[2K   \u001b[90m━━━━━━━━━━━━━━━━━━━━━━━━━━━━━━━━━━━━━━━━\u001b[0m \u001b[32m1.1/1.1 MB\u001b[0m \u001b[31m31.5 MB/s\u001b[0m eta \u001b[36m0:00:00\u001b[0m\n",
            "\u001b[?25h"
          ]
        }
      ],
      "source": [
        "# PyTorch and PyTorch Geometric setup (Colab)\n",
        "!pip install -q rdkit\n",
        "!pip install -q torch-scatter -f https://data.pyg.org/whl/torch-2.0.0+cpu.html\n",
        "!pip install -q torch-geometric"
      ]
    },
    {
      "cell_type": "markdown",
      "source": [
        "# Example: Convert a Single SMILES to a PyG Graph"
      ],
      "metadata": {
        "id": "EVn_tpsvGy0R"
      }
    },
    {
      "cell_type": "code",
      "source": [
        "from rdkit import Chem\n",
        "from rdkit.Chem import rdmolops\n",
        "import torch\n",
        "from torch_geometric.data import Data\n",
        "\n",
        "# Helper function to get atom features\n",
        "def atom_features(atom):\n",
        "    return torch.tensor([\n",
        "        atom.GetAtomicNum(),\n",
        "        atom.GetDegree(),\n",
        "        int(atom.GetIsAromatic())\n",
        "    ], dtype=torch.float)\n",
        "\n",
        "# Helper function to get bond features\n",
        "def bond_features(bond):\n",
        "    bond_type = bond.GetBondType()\n",
        "    return torch.tensor([\n",
        "        int(bond_type == Chem.rdchem.BondType.SINGLE),\n",
        "        int(bond_type == Chem.rdchem.BondType.DOUBLE),\n",
        "        int(bond_type == Chem.rdchem.BondType.TRIPLE),\n",
        "        int(bond_type == Chem.rdchem.BondType.AROMATIC),\n",
        "        int(bond.GetIsConjugated())\n",
        "    ], dtype=torch.float)\n",
        "\n",
        "# Convert SMILES to molecular graph\n",
        "def smiles_to_pyg(smiles):\n",
        "    mol = Chem.MolFromSmiles(smiles)\n",
        "    if mol is None:\n",
        "        return None\n",
        "\n",
        "    # Node features\n",
        "    atom_feats = [atom_features(atom) for atom in mol.GetAtoms()]\n",
        "    x = torch.stack(atom_feats)  # Shape: [num_nodes, num_node_features]\n",
        "\n",
        "    # Edge list and edge features\n",
        "    edge_index = []\n",
        "    edge_attr = []\n",
        "    for bond in mol.GetBonds():\n",
        "        i = bond.GetBeginAtomIdx()\n",
        "        j = bond.GetEndAtomIdx()\n",
        "        edge_index += [[i, j], [j, i]]  # undirected edges\n",
        "        edge_feat = bond_features(bond)\n",
        "        edge_attr += [edge_feat, edge_feat]\n",
        "\n",
        "    edge_index = torch.tensor(edge_index, dtype=torch.long).t().contiguous()\n",
        "    edge_attr = torch.stack(edge_attr)\n",
        "\n",
        "    return Data(x=x, edge_index=edge_index, edge_attr=edge_attr)\n",
        "\n",
        "# Test with a molecule\n",
        "graph = smiles_to_pyg(\"CCO\")  # Ethanol\n",
        "print(graph)\n"
      ],
      "metadata": {
        "colab": {
          "base_uri": "https://localhost:8080/"
        },
        "id": "miLGDghgGxS3",
        "outputId": "f5333d5a-8087-42b7-b3b9-3ad61bd2a42a"
      },
      "execution_count": null,
      "outputs": [
        {
          "output_type": "stream",
          "name": "stderr",
          "text": [
            "/usr/local/lib/python3.11/dist-packages/torch_geometric/typing.py:86: UserWarning: An issue occurred while importing 'torch-scatter'. Disabling its usage. Stacktrace: /usr/local/lib/python3.11/dist-packages/torch_scatter/_version_cpu.so: undefined symbol: _ZN3c1017RegisterOperatorsD1Ev\n",
            "  warnings.warn(f\"An issue occurred while importing 'torch-scatter'. \"\n"
          ]
        },
        {
          "output_type": "stream",
          "name": "stdout",
          "text": [
            "Data(x=[3, 3], edge_index=[2, 4], edge_attr=[4, 5])\n"
          ]
        }
      ]
    },
    {
      "cell_type": "markdown",
      "source": [
        "# Practice Problem 1: Visualizing Molecular Graph Features\n",
        "**Task:**\n",
        "\n",
        "- Use RDKit to parse a molecule of your choice.\n",
        "- Extract and print atom and bond features using the smiles_to_pyg() function.\n",
        "- Try SMILES like: \"c1ccccc1O\" (phenol) or \"CC(=O)O\" (acetic acid)"
      ],
      "metadata": {
        "id": "70I92xnSIEJA"
      }
    },
    {
      "cell_type": "code",
      "source": [
        "# Practice Problem 1: Visualizing features for acetic acid\n",
        "your_smiles = \"CC(=O)O\"  # Acetic acid\n",
        "\n",
        "graph = smiles_to_pyg(your_smiles)\n",
        "\n",
        "print(\"Node Features (x):\")\n",
        "print(graph.x)\n",
        "\n",
        "print(\"\\nEdge Index (edge_index):\")\n",
        "print(graph.edge_index)\n",
        "\n",
        "print(\"\\nEdge Features (edge_attr):\")\n",
        "print(graph.edge_attr)\n"
      ],
      "metadata": {
        "id": "eDCndSTxIJ39",
        "outputId": "057364c5-18d6-4f61-d389-baee48af8756",
        "colab": {
          "base_uri": "https://localhost:8080/"
        }
      },
      "execution_count": null,
      "outputs": [
        {
          "output_type": "stream",
          "name": "stdout",
          "text": [
            "Node Features (x):\n",
            "tensor([[6., 1., 0.],\n",
            "        [6., 3., 0.],\n",
            "        [8., 1., 0.],\n",
            "        [8., 1., 0.]])\n",
            "\n",
            "Edge Index (edge_index):\n",
            "tensor([[0, 1, 1, 2, 1, 3],\n",
            "        [1, 0, 2, 1, 3, 1]])\n",
            "\n",
            "Edge Features (edge_attr):\n",
            "tensor([[1., 0., 0., 0., 0.],\n",
            "        [1., 0., 0., 0., 0.],\n",
            "        [0., 1., 0., 0., 1.],\n",
            "        [0., 1., 0., 0., 1.],\n",
            "        [1., 0., 0., 0., 1.],\n",
            "        [1., 0., 0., 0., 1.]])\n"
          ]
        }
      ]
    }
  ]
}