{
  "nbformat": 4,
  "nbformat_minor": 0,
  "metadata": {
    "colab": {
      "provenance": [],
      "authorship_tag": "ABX9TyMltkUtVuQoDmZq1xeBqLgD",
      "include_colab_link": true
    },
    "kernelspec": {
      "name": "python3",
      "display_name": "Python 3"
    },
    "language_info": {
      "name": "python"
    }
  },
  "cells": [
    {
      "cell_type": "markdown",
      "metadata": {
        "id": "view-in-github",
        "colab_type": "text"
      },
      "source": [
        "<a href=\"https://colab.research.google.com/github/aliu-7/Molecular-Property-Prediction-and-Optimization/blob/main/4_4_2_Implementing_a_Neural_Network_with_Molecular_Descriptors.ipynb\" target=\"_parent\"><img src=\"https://colab.research.google.com/assets/colab-badge.svg\" alt=\"Open In Colab\"/></a>"
      ]
    },
    {
      "cell_type": "code",
      "execution_count": null,
      "metadata": {
        "colab": {
          "base_uri": "https://localhost:8080/",
          "height": 1000
        },
        "id": "0Dvvr_fSPCXa",
        "outputId": "034b9933-69f6-41f3-d9d8-43a303ce300d"
      },
      "outputs": [
        {
          "output_type": "stream",
          "name": "stderr",
          "text": [
            "[23:08:09] Explicit valence for atom # 1 N, 4, is greater than permitted\n",
            "[23:08:09] WARNING: not removing hydrogen atom without neighbors\n",
            "[23:08:09] Explicit valence for atom # 6 N, 4, is greater than permitted\n",
            "[23:08:09] WARNING: not removing hydrogen atom without neighbors\n",
            "[23:08:09] WARNING: not removing hydrogen atom without neighbors\n",
            "[23:08:09] WARNING: not removing hydrogen atom without neighbors\n",
            "[23:08:09] WARNING: not removing hydrogen atom without neighbors\n",
            "[23:08:09] WARNING: not removing hydrogen atom without neighbors\n",
            "[23:08:09] WARNING: not removing hydrogen atom without neighbors\n",
            "[23:08:09] Explicit valence for atom # 6 N, 4, is greater than permitted\n",
            "[23:08:09] WARNING: not removing hydrogen atom without neighbors\n",
            "[23:08:09] WARNING: not removing hydrogen atom without neighbors\n",
            "[23:08:09] WARNING: not removing hydrogen atom without neighbors\n",
            "[23:08:09] WARNING: not removing hydrogen atom without neighbors\n",
            "[23:08:09] Explicit valence for atom # 11 N, 4, is greater than permitted\n",
            "[23:08:09] Explicit valence for atom # 12 N, 4, is greater than permitted\n",
            "[23:08:09] Explicit valence for atom # 5 N, 4, is greater than permitted\n",
            "[23:08:09] Explicit valence for atom # 5 N, 4, is greater than permitted\n",
            "[23:08:09] Explicit valence for atom # 5 N, 4, is greater than permitted\n",
            "[23:08:09] Explicit valence for atom # 5 N, 4, is greater than permitted\n",
            "[23:08:09] Explicit valence for atom # 5 N, 4, is greater than permitted\n",
            "[23:08:09] WARNING: not removing hydrogen atom without neighbors\n",
            "[23:08:09] WARNING: not removing hydrogen atom without neighbors\n",
            "[23:08:09] Explicit valence for atom # 5 N, 4, is greater than permitted\n",
            "[23:08:09] WARNING: not removing hydrogen atom without neighbors\n",
            "[23:08:09] WARNING: not removing hydrogen atom without neighbors\n",
            "[23:08:09] WARNING: not removing hydrogen atom without neighbors\n",
            "[23:08:09] WARNING: not removing hydrogen atom without neighbors\n",
            "[23:08:09] WARNING: not removing hydrogen atom without neighbors\n",
            "[23:08:10] WARNING: not removing hydrogen atom without neighbors\n",
            "[23:08:10] WARNING: not removing hydrogen atom without neighbors\n",
            "[23:08:10] WARNING: not removing hydrogen atom without neighbors\n",
            "[23:08:10] WARNING: not removing hydrogen atom without neighbors\n",
            "[23:08:10] WARNING: not removing hydrogen atom without neighbors\n",
            "[23:08:10] WARNING: not removing hydrogen atom without neighbors\n",
            "[23:08:10] WARNING: not removing hydrogen atom without neighbors\n",
            "[23:08:10] WARNING: not removing hydrogen atom without neighbors\n",
            "[23:08:10] WARNING: not removing hydrogen atom without neighbors\n",
            "[23:08:10] WARNING: not removing hydrogen atom without neighbors\n",
            "[23:08:10] WARNING: not removing hydrogen atom without neighbors\n",
            "[23:08:10] WARNING: not removing hydrogen atom without neighbors\n",
            "[23:08:10] WARNING: not removing hydrogen atom without neighbors\n",
            "[23:08:10] WARNING: not removing hydrogen atom without neighbors\n",
            "[23:08:10] WARNING: not removing hydrogen atom without neighbors\n",
            "[23:08:10] WARNING: not removing hydrogen atom without neighbors\n",
            "[23:08:10] WARNING: not removing hydrogen atom without neighbors\n",
            "[23:08:10] WARNING: not removing hydrogen atom without neighbors\n",
            "[23:08:10] WARNING: not removing hydrogen atom without neighbors\n",
            "[23:08:10] WARNING: not removing hydrogen atom without neighbors\n",
            "[23:08:10] WARNING: not removing hydrogen atom without neighbors\n",
            "[23:08:10] WARNING: not removing hydrogen atom without neighbors\n",
            "/usr/local/lib/python3.11/dist-packages/keras/src/layers/core/dense.py:87: UserWarning: Do not pass an `input_shape`/`input_dim` argument to a layer. When using Sequential models, prefer using an `Input(shape)` object as the first layer in the model instead.\n",
            "  super().__init__(activity_regularizer=activity_regularizer, **kwargs)\n"
          ]
        },
        {
          "output_type": "display_data",
          "data": {
            "text/plain": [
              "\u001b[1mModel: \"sequential\"\u001b[0m\n"
            ],
            "text/html": [
              "<pre style=\"white-space:pre;overflow-x:auto;line-height:normal;font-family:Menlo,'DejaVu Sans Mono',consolas,'Courier New',monospace\"><span style=\"font-weight: bold\">Model: \"sequential\"</span>\n",
              "</pre>\n"
            ]
          },
          "metadata": {}
        },
        {
          "output_type": "display_data",
          "data": {
            "text/plain": [
              "┏━━━━━━━━━━━━━━━━━━━━━━━━━━━━━━━━━┳━━━━━━━━━━━━━━━━━━━━━━━━┳━━━━━━━━━━━━━━━┓\n",
              "┃\u001b[1m \u001b[0m\u001b[1mLayer (type)                   \u001b[0m\u001b[1m \u001b[0m┃\u001b[1m \u001b[0m\u001b[1mOutput Shape          \u001b[0m\u001b[1m \u001b[0m┃\u001b[1m \u001b[0m\u001b[1m      Param #\u001b[0m\u001b[1m \u001b[0m┃\n",
              "┡━━━━━━━━━━━━━━━━━━━━━━━━━━━━━━━━━╇━━━━━━━━━━━━━━━━━━━━━━━━╇━━━━━━━━━━━━━━━┩\n",
              "│ dense (\u001b[38;5;33mDense\u001b[0m)                   │ (\u001b[38;5;45mNone\u001b[0m, \u001b[38;5;34m64\u001b[0m)             │           \u001b[38;5;34m448\u001b[0m │\n",
              "├─────────────────────────────────┼────────────────────────┼───────────────┤\n",
              "│ dropout (\u001b[38;5;33mDropout\u001b[0m)               │ (\u001b[38;5;45mNone\u001b[0m, \u001b[38;5;34m64\u001b[0m)             │             \u001b[38;5;34m0\u001b[0m │\n",
              "├─────────────────────────────────┼────────────────────────┼───────────────┤\n",
              "│ dense_1 (\u001b[38;5;33mDense\u001b[0m)                 │ (\u001b[38;5;45mNone\u001b[0m, \u001b[38;5;34m32\u001b[0m)             │         \u001b[38;5;34m2,080\u001b[0m │\n",
              "├─────────────────────────────────┼────────────────────────┼───────────────┤\n",
              "│ dropout_1 (\u001b[38;5;33mDropout\u001b[0m)             │ (\u001b[38;5;45mNone\u001b[0m, \u001b[38;5;34m32\u001b[0m)             │             \u001b[38;5;34m0\u001b[0m │\n",
              "├─────────────────────────────────┼────────────────────────┼───────────────┤\n",
              "│ dense_2 (\u001b[38;5;33mDense\u001b[0m)                 │ (\u001b[38;5;45mNone\u001b[0m, \u001b[38;5;34m1\u001b[0m)              │            \u001b[38;5;34m33\u001b[0m │\n",
              "└─────────────────────────────────┴────────────────────────┴───────────────┘\n"
            ],
            "text/html": [
              "<pre style=\"white-space:pre;overflow-x:auto;line-height:normal;font-family:Menlo,'DejaVu Sans Mono',consolas,'Courier New',monospace\">┏━━━━━━━━━━━━━━━━━━━━━━━━━━━━━━━━━┳━━━━━━━━━━━━━━━━━━━━━━━━┳━━━━━━━━━━━━━━━┓\n",
              "┃<span style=\"font-weight: bold\"> Layer (type)                    </span>┃<span style=\"font-weight: bold\"> Output Shape           </span>┃<span style=\"font-weight: bold\">       Param # </span>┃\n",
              "┡━━━━━━━━━━━━━━━━━━━━━━━━━━━━━━━━━╇━━━━━━━━━━━━━━━━━━━━━━━━╇━━━━━━━━━━━━━━━┩\n",
              "│ dense (<span style=\"color: #0087ff; text-decoration-color: #0087ff\">Dense</span>)                   │ (<span style=\"color: #00d7ff; text-decoration-color: #00d7ff\">None</span>, <span style=\"color: #00af00; text-decoration-color: #00af00\">64</span>)             │           <span style=\"color: #00af00; text-decoration-color: #00af00\">448</span> │\n",
              "├─────────────────────────────────┼────────────────────────┼───────────────┤\n",
              "│ dropout (<span style=\"color: #0087ff; text-decoration-color: #0087ff\">Dropout</span>)               │ (<span style=\"color: #00d7ff; text-decoration-color: #00d7ff\">None</span>, <span style=\"color: #00af00; text-decoration-color: #00af00\">64</span>)             │             <span style=\"color: #00af00; text-decoration-color: #00af00\">0</span> │\n",
              "├─────────────────────────────────┼────────────────────────┼───────────────┤\n",
              "│ dense_1 (<span style=\"color: #0087ff; text-decoration-color: #0087ff\">Dense</span>)                 │ (<span style=\"color: #00d7ff; text-decoration-color: #00d7ff\">None</span>, <span style=\"color: #00af00; text-decoration-color: #00af00\">32</span>)             │         <span style=\"color: #00af00; text-decoration-color: #00af00\">2,080</span> │\n",
              "├─────────────────────────────────┼────────────────────────┼───────────────┤\n",
              "│ dropout_1 (<span style=\"color: #0087ff; text-decoration-color: #0087ff\">Dropout</span>)             │ (<span style=\"color: #00d7ff; text-decoration-color: #00d7ff\">None</span>, <span style=\"color: #00af00; text-decoration-color: #00af00\">32</span>)             │             <span style=\"color: #00af00; text-decoration-color: #00af00\">0</span> │\n",
              "├─────────────────────────────────┼────────────────────────┼───────────────┤\n",
              "│ dense_2 (<span style=\"color: #0087ff; text-decoration-color: #0087ff\">Dense</span>)                 │ (<span style=\"color: #00d7ff; text-decoration-color: #00d7ff\">None</span>, <span style=\"color: #00af00; text-decoration-color: #00af00\">1</span>)              │            <span style=\"color: #00af00; text-decoration-color: #00af00\">33</span> │\n",
              "└─────────────────────────────────┴────────────────────────┴───────────────┘\n",
              "</pre>\n"
            ]
          },
          "metadata": {}
        },
        {
          "output_type": "display_data",
          "data": {
            "text/plain": [
              "\u001b[1m Total params: \u001b[0m\u001b[38;5;34m2,561\u001b[0m (10.00 KB)\n"
            ],
            "text/html": [
              "<pre style=\"white-space:pre;overflow-x:auto;line-height:normal;font-family:Menlo,'DejaVu Sans Mono',consolas,'Courier New',monospace\"><span style=\"font-weight: bold\"> Total params: </span><span style=\"color: #00af00; text-decoration-color: #00af00\">2,561</span> (10.00 KB)\n",
              "</pre>\n"
            ]
          },
          "metadata": {}
        },
        {
          "output_type": "display_data",
          "data": {
            "text/plain": [
              "\u001b[1m Trainable params: \u001b[0m\u001b[38;5;34m2,561\u001b[0m (10.00 KB)\n"
            ],
            "text/html": [
              "<pre style=\"white-space:pre;overflow-x:auto;line-height:normal;font-family:Menlo,'DejaVu Sans Mono',consolas,'Courier New',monospace\"><span style=\"font-weight: bold\"> Trainable params: </span><span style=\"color: #00af00; text-decoration-color: #00af00\">2,561</span> (10.00 KB)\n",
              "</pre>\n"
            ]
          },
          "metadata": {}
        },
        {
          "output_type": "display_data",
          "data": {
            "text/plain": [
              "\u001b[1m Non-trainable params: \u001b[0m\u001b[38;5;34m0\u001b[0m (0.00 B)\n"
            ],
            "text/html": [
              "<pre style=\"white-space:pre;overflow-x:auto;line-height:normal;font-family:Menlo,'DejaVu Sans Mono',consolas,'Courier New',monospace\"><span style=\"font-weight: bold\"> Non-trainable params: </span><span style=\"color: #00af00; text-decoration-color: #00af00\">0</span> (0.00 B)\n",
              "</pre>\n"
            ]
          },
          "metadata": {}
        },
        {
          "output_type": "stream",
          "name": "stdout",
          "text": [
            "Epoch 1/10\n",
            "\u001b[1m41/41\u001b[0m \u001b[32m━━━━━━━━━━━━━━━━━━━━\u001b[0m\u001b[37m\u001b[0m \u001b[1m2s\u001b[0m 9ms/step - accuracy: 0.7369 - loss: 0.6099 - val_accuracy: 0.8593 - val_loss: 0.3901\n",
            "Epoch 2/10\n",
            "\u001b[1m41/41\u001b[0m \u001b[32m━━━━━━━━━━━━━━━━━━━━\u001b[0m\u001b[37m\u001b[0m \u001b[1m0s\u001b[0m 4ms/step - accuracy: 0.8157 - loss: 0.4409 - val_accuracy: 0.8624 - val_loss: 0.3408\n",
            "Epoch 3/10\n",
            "\u001b[1m41/41\u001b[0m \u001b[32m━━━━━━━━━━━━━━━━━━━━\u001b[0m\u001b[37m\u001b[0m \u001b[1m0s\u001b[0m 3ms/step - accuracy: 0.8411 - loss: 0.4326 - val_accuracy: 0.8502 - val_loss: 0.3378\n",
            "Epoch 4/10\n",
            "\u001b[1m41/41\u001b[0m \u001b[32m━━━━━━━━━━━━━━━━━━━━\u001b[0m\u001b[37m\u001b[0m \u001b[1m0s\u001b[0m 5ms/step - accuracy: 0.8506 - loss: 0.3954 - val_accuracy: 0.8654 - val_loss: 0.3352\n",
            "Epoch 5/10\n",
            "\u001b[1m41/41\u001b[0m \u001b[32m━━━━━━━━━━━━━━━━━━━━\u001b[0m\u001b[37m\u001b[0m \u001b[1m0s\u001b[0m 6ms/step - accuracy: 0.8517 - loss: 0.3978 - val_accuracy: 0.8502 - val_loss: 0.3362\n",
            "Epoch 6/10\n",
            "\u001b[1m41/41\u001b[0m \u001b[32m━━━━━━━━━━━━━━━━━━━━\u001b[0m\u001b[37m\u001b[0m \u001b[1m0s\u001b[0m 6ms/step - accuracy: 0.8354 - loss: 0.4146 - val_accuracy: 0.8654 - val_loss: 0.3335\n",
            "Epoch 7/10\n",
            "\u001b[1m41/41\u001b[0m \u001b[32m━━━━━━━━━━━━━━━━━━━━\u001b[0m\u001b[37m\u001b[0m \u001b[1m0s\u001b[0m 7ms/step - accuracy: 0.8463 - loss: 0.4040 - val_accuracy: 0.8685 - val_loss: 0.3337\n",
            "Epoch 8/10\n",
            "\u001b[1m41/41\u001b[0m \u001b[32m━━━━━━━━━━━━━━━━━━━━\u001b[0m\u001b[37m\u001b[0m \u001b[1m1s\u001b[0m 6ms/step - accuracy: 0.8336 - loss: 0.4187 - val_accuracy: 0.8685 - val_loss: 0.3332\n",
            "Epoch 9/10\n",
            "\u001b[1m41/41\u001b[0m \u001b[32m━━━━━━━━━━━━━━━━━━━━\u001b[0m\u001b[37m\u001b[0m \u001b[1m0s\u001b[0m 6ms/step - accuracy: 0.8462 - loss: 0.3816 - val_accuracy: 0.8685 - val_loss: 0.3347\n",
            "Epoch 10/10\n",
            "\u001b[1m41/41\u001b[0m \u001b[32m━━━━━━━━━━━━━━━━━━━━\u001b[0m\u001b[37m\u001b[0m \u001b[1m0s\u001b[0m 7ms/step - accuracy: 0.8591 - loss: 0.3770 - val_accuracy: 0.8716 - val_loss: 0.3352\n",
            "\u001b[1m13/13\u001b[0m \u001b[32m━━━━━━━━━━━━━━━━━━━━\u001b[0m\u001b[37m\u001b[0m \u001b[1m0s\u001b[0m 4ms/step - accuracy: 0.8211 - loss: 0.3958 \n",
            "Test Accuracy: 0.82\n"
          ]
        }
      ],
      "source": [
        "# Step 1: Install dependencies\n",
        "!pip install -q rdkit-pypi pandas scikit-learn tensorflow\n",
        "\n",
        "# Step 2: Load the BBBP dataset\n",
        "import pandas as pd\n",
        "from rdkit import Chem\n",
        "from rdkit.Chem import Descriptors\n",
        "\n",
        "url = \"https://raw.githubusercontent.com/Data-Chemist-Handbook/Data-Chemist-Handbook.github.io/refs/heads/master/_pages/BBBP.csv\"\n",
        "data = pd.read_csv(url)\n",
        "\n",
        "# Step 3: Define a function to compute molecular descriptors\n",
        "def compute_descriptors(smiles):\n",
        "    mol = Chem.MolFromSmiles(smiles)\n",
        "    if mol is None:\n",
        "        return None\n",
        "    return [\n",
        "        Descriptors.MolWt(mol),                      # Molecular weight\n",
        "        Descriptors.MolLogP(mol),                    # LogP\n",
        "        Descriptors.TPSA(mol),                       # Topological polar surface area\n",
        "        Descriptors.NumRotatableBonds(mol),          # Rotatable bonds\n",
        "        Descriptors.NumHDonors(mol),                 # H-bond donors\n",
        "        Descriptors.NumHAcceptors(mol)               # H-bond acceptors\n",
        "    ]\n",
        "\n",
        "# Step 4: Apply descriptor function to SMILES\n",
        "descriptor_data = data['smiles'].apply(compute_descriptors)\n",
        "\n",
        "# Filter out None entries\n",
        "valid_mask = descriptor_data.notnull()\n",
        "valid_descriptors = descriptor_data[valid_mask]\n",
        "\n",
        "# Convert the list of valid descriptors into a DataFrame\n",
        "df_desc = pd.DataFrame(valid_descriptors.tolist(), columns=[\n",
        "    'MolWt', 'LogP', 'TPSA', 'RotatableBonds', 'HDonors', 'HAcceptors'\n",
        "])\n",
        "\n",
        "# Attach the corresponding labels\n",
        "df_desc['Label'] = data.loc[valid_mask, 'p_np'].values\n",
        "\n",
        "# Step 5: Train/test split\n",
        "from sklearn.model_selection import train_test_split\n",
        "X = df_desc.drop('Label', axis=1).values\n",
        "y = df_desc['Label'].values\n",
        "X_train, X_test, y_train, y_test = train_test_split(X, y, test_size=0.2, random_state=42)\n",
        "\n",
        "# Step 6: Normalize the features\n",
        "from sklearn.preprocessing import StandardScaler\n",
        "scaler = StandardScaler()\n",
        "X_train = scaler.fit_transform(X_train)\n",
        "X_test = scaler.transform(X_test)\n",
        "\n",
        "# Step 7: Build a neural network\n",
        "import tensorflow as tf\n",
        "from tensorflow.keras.models import Sequential\n",
        "from tensorflow.keras.layers import Dense, Dropout\n",
        "\n",
        "model = Sequential([\n",
        "    Dense(64, activation='relu', input_shape=(X_train.shape[1],)),\n",
        "    Dropout(0.3),\n",
        "    Dense(32, activation='relu'),\n",
        "    Dropout(0.3),\n",
        "    Dense(1, activation='sigmoid')  # Binary classification\n",
        "])\n",
        "\n",
        "model.compile(optimizer='adam', loss='binary_crossentropy', metrics=['accuracy'])\n",
        "model.summary()\n",
        "\n",
        "# Step 8: Train the model\n",
        "history = model.fit(X_train, y_train, epochs=10, batch_size=32, validation_split=0.2)\n",
        "\n",
        "# Step 9: Evaluate the model\n",
        "loss, accuracy = model.evaluate(X_test, y_test)\n",
        "print(f\"Test Accuracy: {accuracy:.2f}\")"
      ]
    },
    {
      "cell_type": "markdown",
      "source": [
        "# Predict on New Molecules"
      ],
      "metadata": {
        "id": "sK34i2hHPOft"
      }
    },
    {
      "cell_type": "code",
      "source": [
        "new_smiles = [\"CCN(CC)CC\", \"c1ccccc1O\", \"CC(=O)OC1=CC=CC=C1C(=O)O\"]\n",
        "new_desc = [compute_descriptors(smi) for smi in new_smiles]\n",
        "new_X = scaler.transform(new_desc)\n",
        "predictions = model.predict(new_X)\n",
        "\n",
        "for i, smi in enumerate(new_smiles):\n",
        "    prob = predictions[i][0]\n",
        "    print(f\"{smi} → Predicted BBB permeability: {prob:.2f}\")"
      ],
      "metadata": {
        "id": "RRcIbVKDP549",
        "outputId": "992dea23-02c0-483a-9f73-0ee411a4b977",
        "colab": {
          "base_uri": "https://localhost:8080/"
        }
      },
      "execution_count": null,
      "outputs": [
        {
          "output_type": "stream",
          "name": "stdout",
          "text": [
            "\u001b[1m1/1\u001b[0m \u001b[32m━━━━━━━━━━━━━━━━━━━━\u001b[0m\u001b[37m\u001b[0m \u001b[1m0s\u001b[0m 158ms/step\n",
            "CCN(CC)CC → Predicted BBB permeability: 0.98\n",
            "c1ccccc1O → Predicted BBB permeability: 0.96\n",
            "CC(=O)OC1=CC=CC=C1C(=O)O → Predicted BBB permeability: 0.91\n"
          ]
        }
      ]
    }
  ]
}