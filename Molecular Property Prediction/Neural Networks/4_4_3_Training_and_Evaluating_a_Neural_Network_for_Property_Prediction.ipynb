{
  "nbformat": 4,
  "nbformat_minor": 0,
  "metadata": {
    "colab": {
      "provenance": [],
      "authorship_tag": "ABX9TyNZfAJEx13jUEgHWIdXobIj",
      "include_colab_link": true
    },
    "kernelspec": {
      "name": "python3",
      "display_name": "Python 3"
    },
    "language_info": {
      "name": "python"
    }
  },
  "cells": [
    {
      "cell_type": "markdown",
      "metadata": {
        "id": "view-in-github",
        "colab_type": "text"
      },
      "source": [
        "<a href=\"https://colab.research.google.com/github/aliu-7/Molecular-Property-Prediction-and-Optimization/blob/main/4_4_3_Training_and_Evaluating_a_Neural_Network_for_Property_Prediction.ipynb\" target=\"_parent\"><img src=\"https://colab.research.google.com/assets/colab-badge.svg\" alt=\"Open In Colab\"/></a>"
      ]
    },
    {
      "cell_type": "code",
      "execution_count": null,
      "metadata": {
        "id": "JUaVl9WIQxGb",
        "outputId": "77ff7e81-49c2-4881-a912-b0831aaf1c83",
        "colab": {
          "base_uri": "https://localhost:8080/"
        }
      },
      "outputs": [
        {
          "output_type": "stream",
          "name": "stdout",
          "text": [
            "\u001b[2K   \u001b[90m━━━━━━━━━━━━━━━━━━━━━━━━━━━━━━━━━━━━━━━━\u001b[0m \u001b[32m34.9/34.9 MB\u001b[0m \u001b[31m31.2 MB/s\u001b[0m eta \u001b[36m0:00:00\u001b[0m\n",
            "\u001b[?25h"
          ]
        },
        {
          "output_type": "stream",
          "name": "stderr",
          "text": [
            "[23:12:39] Explicit valence for atom # 1 N, 4, is greater than permitted\n",
            "[23:12:39] WARNING: not removing hydrogen atom without neighbors\n",
            "[23:12:39] Explicit valence for atom # 6 N, 4, is greater than permitted\n",
            "[23:12:39] WARNING: not removing hydrogen atom without neighbors\n",
            "[23:12:40] WARNING: not removing hydrogen atom without neighbors\n",
            "[23:12:40] WARNING: not removing hydrogen atom without neighbors\n",
            "[23:12:40] WARNING: not removing hydrogen atom without neighbors\n",
            "[23:12:40] WARNING: not removing hydrogen atom without neighbors\n",
            "[23:12:40] WARNING: not removing hydrogen atom without neighbors\n",
            "[23:12:40] Explicit valence for atom # 6 N, 4, is greater than permitted\n",
            "[23:12:40] WARNING: not removing hydrogen atom without neighbors\n",
            "[23:12:40] WARNING: not removing hydrogen atom without neighbors\n",
            "[23:12:40] WARNING: not removing hydrogen atom without neighbors\n",
            "[23:12:40] WARNING: not removing hydrogen atom without neighbors\n",
            "[23:12:40] Explicit valence for atom # 11 N, 4, is greater than permitted\n",
            "[23:12:40] Explicit valence for atom # 12 N, 4, is greater than permitted\n",
            "[23:12:40] Explicit valence for atom # 5 N, 4, is greater than permitted\n",
            "[23:12:40] Explicit valence for atom # 5 N, 4, is greater than permitted\n",
            "[23:12:40] Explicit valence for atom # 5 N, 4, is greater than permitted\n",
            "[23:12:40] Explicit valence for atom # 5 N, 4, is greater than permitted\n",
            "[23:12:40] Explicit valence for atom # 5 N, 4, is greater than permitted\n",
            "[23:12:40] WARNING: not removing hydrogen atom without neighbors\n",
            "[23:12:40] WARNING: not removing hydrogen atom without neighbors\n",
            "[23:12:40] Explicit valence for atom # 5 N, 4, is greater than permitted\n",
            "[23:12:40] WARNING: not removing hydrogen atom without neighbors\n",
            "[23:12:40] WARNING: not removing hydrogen atom without neighbors\n",
            "[23:12:40] WARNING: not removing hydrogen atom without neighbors\n",
            "[23:12:40] WARNING: not removing hydrogen atom without neighbors\n",
            "[23:12:40] WARNING: not removing hydrogen atom without neighbors\n",
            "[23:12:40] WARNING: not removing hydrogen atom without neighbors\n",
            "[23:12:40] WARNING: not removing hydrogen atom without neighbors\n",
            "[23:12:40] WARNING: not removing hydrogen atom without neighbors\n",
            "[23:12:40] WARNING: not removing hydrogen atom without neighbors\n",
            "[23:12:40] WARNING: not removing hydrogen atom without neighbors\n",
            "[23:12:41] WARNING: not removing hydrogen atom without neighbors\n",
            "[23:12:41] WARNING: not removing hydrogen atom without neighbors\n",
            "[23:12:41] WARNING: not removing hydrogen atom without neighbors\n",
            "[23:12:41] WARNING: not removing hydrogen atom without neighbors\n",
            "[23:12:41] WARNING: not removing hydrogen atom without neighbors\n",
            "[23:12:41] WARNING: not removing hydrogen atom without neighbors\n",
            "[23:12:41] WARNING: not removing hydrogen atom without neighbors\n",
            "[23:12:41] WARNING: not removing hydrogen atom without neighbors\n",
            "[23:12:41] WARNING: not removing hydrogen atom without neighbors\n",
            "[23:12:41] WARNING: not removing hydrogen atom without neighbors\n",
            "[23:12:41] WARNING: not removing hydrogen atom without neighbors\n",
            "[23:12:41] WARNING: not removing hydrogen atom without neighbors\n",
            "[23:12:41] WARNING: not removing hydrogen atom without neighbors\n",
            "[23:12:41] WARNING: not removing hydrogen atom without neighbors\n",
            "[23:12:41] WARNING: not removing hydrogen atom without neighbors\n",
            "[23:12:41] WARNING: not removing hydrogen atom without neighbors\n",
            "[23:12:41] WARNING: not removing hydrogen atom without neighbors\n",
            "/usr/local/lib/python3.11/dist-packages/keras/src/layers/core/dense.py:87: UserWarning: Do not pass an `input_shape`/`input_dim` argument to a layer. When using Sequential models, prefer using an `Input(shape)` object as the first layer in the model instead.\n",
            "  super().__init__(activity_regularizer=activity_regularizer, **kwargs)\n"
          ]
        },
        {
          "output_type": "stream",
          "name": "stdout",
          "text": [
            "Epoch 1/10\n",
            "\u001b[1m41/41\u001b[0m \u001b[32m━━━━━━━━━━━━━━━━━━━━\u001b[0m\u001b[37m\u001b[0m \u001b[1m3s\u001b[0m 15ms/step - accuracy: 0.4757 - loss: 0.7142 - val_accuracy: 0.8287 - val_loss: 0.5001\n",
            "Epoch 2/10\n",
            "\u001b[1m41/41\u001b[0m \u001b[32m━━━━━━━━━━━━━━━━━━━━\u001b[0m\u001b[37m\u001b[0m \u001b[1m0s\u001b[0m 7ms/step - accuracy: 0.8270 - loss: 0.4987 - val_accuracy: 0.8777 - val_loss: 0.3742\n",
            "Epoch 3/10\n",
            "\u001b[1m41/41\u001b[0m \u001b[32m━━━━━━━━━━━━━━━━━━━━\u001b[0m\u001b[37m\u001b[0m \u001b[1m1s\u001b[0m 4ms/step - accuracy: 0.8437 - loss: 0.4208 - val_accuracy: 0.8807 - val_loss: 0.3374\n",
            "Epoch 4/10\n",
            "\u001b[1m41/41\u001b[0m \u001b[32m━━━━━━━━━━━━━━━━━━━━\u001b[0m\u001b[37m\u001b[0m \u001b[1m0s\u001b[0m 4ms/step - accuracy: 0.8557 - loss: 0.3883 - val_accuracy: 0.8838 - val_loss: 0.3308\n",
            "Epoch 5/10\n",
            "\u001b[1m41/41\u001b[0m \u001b[32m━━━━━━━━━━━━━━━━━━━━\u001b[0m\u001b[37m\u001b[0m \u001b[1m0s\u001b[0m 4ms/step - accuracy: 0.8472 - loss: 0.3758 - val_accuracy: 0.8807 - val_loss: 0.3295\n",
            "Epoch 6/10\n",
            "\u001b[1m41/41\u001b[0m \u001b[32m━━━━━━━━━━━━━━━━━━━━\u001b[0m\u001b[37m\u001b[0m \u001b[1m0s\u001b[0m 4ms/step - accuracy: 0.8481 - loss: 0.3876 - val_accuracy: 0.8777 - val_loss: 0.3294\n",
            "Epoch 7/10\n",
            "\u001b[1m41/41\u001b[0m \u001b[32m━━━━━━━━━━━━━━━━━━━━\u001b[0m\u001b[37m\u001b[0m \u001b[1m0s\u001b[0m 4ms/step - accuracy: 0.8570 - loss: 0.3743 - val_accuracy: 0.8777 - val_loss: 0.3301\n",
            "Epoch 8/10\n",
            "\u001b[1m41/41\u001b[0m \u001b[32m━━━━━━━━━━━━━━━━━━━━\u001b[0m\u001b[37m\u001b[0m \u001b[1m0s\u001b[0m 5ms/step - accuracy: 0.8416 - loss: 0.3966 - val_accuracy: 0.8777 - val_loss: 0.3287\n",
            "Epoch 9/10\n",
            "\u001b[1m41/41\u001b[0m \u001b[32m━━━━━━━━━━━━━━━━━━━━\u001b[0m\u001b[37m\u001b[0m \u001b[1m0s\u001b[0m 4ms/step - accuracy: 0.8663 - loss: 0.3640 - val_accuracy: 0.8807 - val_loss: 0.3316\n",
            "Epoch 10/10\n",
            "\u001b[1m41/41\u001b[0m \u001b[32m━━━━━━━━━━━━━━━━━━━━\u001b[0m\u001b[37m\u001b[0m \u001b[1m0s\u001b[0m 4ms/step - accuracy: 0.8611 - loss: 0.3642 - val_accuracy: 0.8807 - val_loss: 0.3295\n",
            "\u001b[1m13/13\u001b[0m \u001b[32m━━━━━━━━━━━━━━━━━━━━\u001b[0m\u001b[37m\u001b[0m \u001b[1m0s\u001b[0m 5ms/step \n",
            "              precision    recall  f1-score   support\n",
            "\n",
            "           0       0.72      0.46      0.56        99\n",
            "           1       0.85      0.94      0.89       309\n",
            "\n",
            "    accuracy                           0.83       408\n",
            "   macro avg       0.78      0.70      0.73       408\n",
            "weighted avg       0.82      0.83      0.81       408\n",
            "\n"
          ]
        }
      ],
      "source": [
        "# Step 1: Install RDKit (if not already installed)\n",
        "!pip install -q rdkit\n",
        "\n",
        "# Step 2: Import required libraries\n",
        "import pandas as pd\n",
        "import numpy as np\n",
        "from rdkit import Chem\n",
        "from rdkit.Chem import Descriptors\n",
        "from sklearn.model_selection import train_test_split\n",
        "from sklearn.preprocessing import StandardScaler\n",
        "from sklearn.metrics import classification_report\n",
        "from tensorflow.keras.models import Sequential\n",
        "from tensorflow.keras.layers import Dense\n",
        "\n",
        "# Step 3: Load the dataset\n",
        "url = \"https://raw.githubusercontent.com/Data-Chemist-Handbook/Data-Chemist-Handbook.github.io/refs/heads/master/_pages/BBBP.csv\"\n",
        "data = pd.read_csv(url)\n",
        "\n",
        "# Step 4: Define descriptor calculation function\n",
        "def compute_descriptors(smiles):\n",
        "    mol = Chem.MolFromSmiles(smiles)\n",
        "    if mol is None:\n",
        "        return None\n",
        "    return [\n",
        "        Descriptors.MolWt(mol),\n",
        "        Descriptors.MolLogP(mol),\n",
        "        Descriptors.TPSA(mol),\n",
        "        Descriptors.NumRotatableBonds(mol),\n",
        "        Descriptors.NumHDonors(mol),\n",
        "        Descriptors.NumHAcceptors(mol)\n",
        "    ]\n",
        "\n",
        "# Step 5: Apply descriptor calculation\n",
        "descriptor_data = data['smiles'].apply(compute_descriptors)\n",
        "descriptor_data = descriptor_data.dropna()  # Remove invalid entries\n",
        "X = np.array(descriptor_data.tolist())\n",
        "y = data.loc[descriptor_data.index, 'p_np'].values  # Use same indices to align labels\n",
        "\n",
        "# Step 6: Scale descriptors and split data\n",
        "scaler = StandardScaler()\n",
        "X_scaled = scaler.fit_transform(X)\n",
        "X_train, X_test, y_train, y_test = train_test_split(X_scaled, y, test_size=0.2, random_state=42)\n",
        "\n",
        "# Step 7: Define and compile neural network\n",
        "model = Sequential([\n",
        "    Dense(32, activation='relu', input_shape=(X_train.shape[1],)),\n",
        "    Dense(16, activation='relu'),\n",
        "    Dense(1, activation='sigmoid')\n",
        "])\n",
        "model.compile(optimizer='adam', loss='binary_crossentropy', metrics=['accuracy'])\n",
        "\n",
        "# Step 8: Train the model\n",
        "history = model.fit(X_train, y_train, epochs=10, batch_size=32, validation_split=0.2, verbose=1)\n",
        "\n",
        "# Step 9: Evaluate the model\n",
        "y_pred = (model.predict(X_test) > 0.5).astype(int)\n",
        "print(classification_report(y_test, y_pred))"
      ]
    }
  ]
}